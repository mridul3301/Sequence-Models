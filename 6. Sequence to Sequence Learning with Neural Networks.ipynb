{
  "nbformat": 4,
  "nbformat_minor": 0,
  "metadata": {
    "colab": {
      "provenance": []
    },
    "kernelspec": {
      "name": "python3",
      "display_name": "Python 3"
    },
    "language_info": {
      "name": "python"
    }
  },
  "cells": [
    {
      "cell_type": "markdown",
      "source": [
        "## Sequence to Sequence Learning with Neural Networks"
      ],
      "metadata": {
        "id": "UbeokD4aBbdV"
      }
    },
    {
      "cell_type": "markdown",
      "source": [
        "## Introduction"
      ],
      "metadata": {
        "id": "PieGhpI-Bivb"
      }
    },
    {
      "cell_type": "markdown",
      "source": [
        "The most common sequence-to-sequence (seq2seq) models are encoder-decoder models,<br> which commonly use a recurrent neural network (RNN) to encode the source (input)<br> sentence into a single vector."
      ],
      "metadata": {
        "id": "QUI9cRo7BnU9"
      }
    },
    {
      "cell_type": "markdown",
      "source": [
        "We refer to this single vector (Output from the encoder block) as a context vector.<br> We can think of the context vector as being an abstract representation<br> of the entire input sentence. This vector is then decoded by a second RNN which learns<br> to output the target (output) sentence by generating it one word at a time."
      ],
      "metadata": {
        "id": "SKNoP5HzByyl"
      }
    },
    {
      "cell_type": "markdown",
      "source": [
        "![image.png](data:image/png;base64,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)"
      ],
      "metadata": {
        "id": "expOKtXECEVk"
      }
    },
    {
      "cell_type": "markdown",
      "source": [
        "`sos` means `start of sentence` and `eos` means `end of sentence`."
      ],
      "metadata": {
        "id": "j5nnB63PGAWN"
      }
    },
    {
      "cell_type": "markdown",
      "source": [
        "In general,<br>\n",
        "The operations happening in seq2seq models are:<br><br>\n",
        "$$\n",
        "h_t=EncoderRNN \\left(e\\left(x_t\\right), h_{t-1}\\right)\n",
        "$$\n",
        "<br><br>\n",
        "$$\n",
        "s_t=D e c o d e r R N N \\left(d\\left(y_t\\right), s_{t-1}\\right)\n",
        "$$\n",
        "<br><br>\n",
        "$$\n",
        "\\hat{y}_t=f\\left(s_t\\right)\n",
        "$$"
      ],
      "metadata": {
        "id": "-6If6uc3ECfY"
      }
    },
    {
      "cell_type": "markdown",
      "source": [
        "## Preparing Data"
      ],
      "metadata": {
        "id": "5VoIej_PG0Lm"
      }
    },
    {
      "cell_type": "markdown",
      "source": [
        "Here, we will be creating a model to translate english language to german."
      ],
      "metadata": {
        "id": "bsbZaZax7rR3"
      }
    },
    {
      "cell_type": "markdown",
      "source": [
        "We'll be coding in PyTorch and using torchtext for pre-processing and spaCy to assist <br>tokenization of the data."
      ],
      "metadata": {
        "id": "JCkoIRnqG6a8"
      }
    },
    {
      "cell_type": "markdown",
      "source": [
        "I will be using torchtext 0.6.0 because currently there is no stable torchtext."
      ],
      "metadata": {
        "id": "AdQExdmz6eQv"
      }
    },
    {
      "cell_type": "code",
      "source": [
        "!pip install -U torchtext==0.6.0"
      ],
      "metadata": {
        "colab": {
          "base_uri": "https://localhost:8080/"
        },
        "id": "QZEcxMmb2tV9",
        "outputId": "cc8c93d1-5648-429d-ab53-21adea390919"
      },
      "execution_count": 2,
      "outputs": [
        {
          "output_type": "stream",
          "name": "stdout",
          "text": [
            "Looking in indexes: https://pypi.org/simple, https://us-python.pkg.dev/colab-wheels/public/simple/\n",
            "Collecting torchtext==0.6.0\n",
            "  Downloading torchtext-0.6.0-py3-none-any.whl (64 kB)\n",
            "\u001b[2K     \u001b[90m━━━━━━━━━━━━━━━━━━━━━━━━━━━━━━━━━━━━━━━━\u001b[0m \u001b[32m64.2/64.2 kB\u001b[0m \u001b[31m2.3 MB/s\u001b[0m eta \u001b[36m0:00:00\u001b[0m\n",
            "\u001b[?25hRequirement already satisfied: tqdm in /usr/local/lib/python3.10/dist-packages (from torchtext==0.6.0) (4.65.0)\n",
            "Requirement already satisfied: requests in /usr/local/lib/python3.10/dist-packages (from torchtext==0.6.0) (2.27.1)\n",
            "Requirement already satisfied: torch in /usr/local/lib/python3.10/dist-packages (from torchtext==0.6.0) (2.0.1+cu118)\n",
            "Requirement already satisfied: numpy in /usr/local/lib/python3.10/dist-packages (from torchtext==0.6.0) (1.22.4)\n",
            "Requirement already satisfied: six in /usr/local/lib/python3.10/dist-packages (from torchtext==0.6.0) (1.16.0)\n",
            "Collecting sentencepiece (from torchtext==0.6.0)\n",
            "  Downloading sentencepiece-0.1.99-cp310-cp310-manylinux_2_17_x86_64.manylinux2014_x86_64.whl (1.3 MB)\n",
            "\u001b[2K     \u001b[90m━━━━━━━━━━━━━━━━━━━━━━━━━━━━━━━━━━━━━━━━\u001b[0m \u001b[32m1.3/1.3 MB\u001b[0m \u001b[31m24.3 MB/s\u001b[0m eta \u001b[36m0:00:00\u001b[0m\n",
            "\u001b[?25hRequirement already satisfied: urllib3<1.27,>=1.21.1 in /usr/local/lib/python3.10/dist-packages (from requests->torchtext==0.6.0) (1.26.15)\n",
            "Requirement already satisfied: certifi>=2017.4.17 in /usr/local/lib/python3.10/dist-packages (from requests->torchtext==0.6.0) (2022.12.7)\n",
            "Requirement already satisfied: charset-normalizer~=2.0.0 in /usr/local/lib/python3.10/dist-packages (from requests->torchtext==0.6.0) (2.0.12)\n",
            "Requirement already satisfied: idna<4,>=2.5 in /usr/local/lib/python3.10/dist-packages (from requests->torchtext==0.6.0) (3.4)\n",
            "Requirement already satisfied: filelock in /usr/local/lib/python3.10/dist-packages (from torch->torchtext==0.6.0) (3.12.0)\n",
            "Requirement already satisfied: typing-extensions in /usr/local/lib/python3.10/dist-packages (from torch->torchtext==0.6.0) (4.5.0)\n",
            "Requirement already satisfied: sympy in /usr/local/lib/python3.10/dist-packages (from torch->torchtext==0.6.0) (1.11.1)\n",
            "Requirement already satisfied: networkx in /usr/local/lib/python3.10/dist-packages (from torch->torchtext==0.6.0) (3.1)\n",
            "Requirement already satisfied: jinja2 in /usr/local/lib/python3.10/dist-packages (from torch->torchtext==0.6.0) (3.1.2)\n",
            "Requirement already satisfied: triton==2.0.0 in /usr/local/lib/python3.10/dist-packages (from torch->torchtext==0.6.0) (2.0.0)\n",
            "Requirement already satisfied: cmake in /usr/local/lib/python3.10/dist-packages (from triton==2.0.0->torch->torchtext==0.6.0) (3.25.2)\n",
            "Requirement already satisfied: lit in /usr/local/lib/python3.10/dist-packages (from triton==2.0.0->torch->torchtext==0.6.0) (16.0.5)\n",
            "Requirement already satisfied: MarkupSafe>=2.0 in /usr/local/lib/python3.10/dist-packages (from jinja2->torch->torchtext==0.6.0) (2.1.2)\n",
            "Requirement already satisfied: mpmath>=0.19 in /usr/local/lib/python3.10/dist-packages (from sympy->torch->torchtext==0.6.0) (1.3.0)\n",
            "Installing collected packages: sentencepiece, torchtext\n",
            "  Attempting uninstall: torchtext\n",
            "    Found existing installation: torchtext 0.15.2\n",
            "    Uninstalling torchtext-0.15.2:\n",
            "      Successfully uninstalled torchtext-0.15.2\n",
            "Successfully installed sentencepiece-0.1.99 torchtext-0.6.0\n"
          ]
        }
      ]
    },
    {
      "cell_type": "code",
      "source": [
        "# Import necessary libraries\n",
        "\n",
        "import torch\n",
        "import torch.nn as nn\n",
        "import torch.optim as optim\n",
        "\n",
        "from torchtext.datasets import Multi30k\n",
        "from torchtext.data import Field, BucketIterator\n",
        "\n",
        "import spacy\n",
        "import numpy as np\n",
        "\n",
        "import random\n",
        "import math\n",
        "import time"
      ],
      "metadata": {
        "id": "LeFibD-aBiG3"
      },
      "execution_count": 3,
      "outputs": []
    },
    {
      "cell_type": "code",
      "source": [
        "# Set random seeds for deterministic results\n",
        "SEED = 1234\n",
        "\n",
        "random.seed(SEED)\n",
        "np.random.seed(SEED)\n",
        "torch.manual_seed(SEED)\n",
        "torch.cuda.manual_seed(SEED)\n",
        "torch.backends.cudnn.deterministic = True"
      ],
      "metadata": {
        "id": "NL-2pWUwHLiE"
      },
      "execution_count": 4,
      "outputs": []
    },
    {
      "cell_type": "markdown",
      "source": [
        "Now, we need to generate tokens for the data.<br>\n",
        "After tokenizing, \"good morning !\" becomes [\"good\", \"morning\", \"!\"].<br>\n",
        "Each and every sentence is represented as sequence of tokens.<br><br>\n",
        "`spaCy` has model for each language (\"`de_core_news_sm`\" for German and \"`en_core_web_sm`\" for English)<br> which need to be loaded so we can access the tokenizer of each model."
      ],
      "metadata": {
        "id": "RepN4HB_66K_"
      }
    },
    {
      "cell_type": "code",
      "source": [
        "# Downloading the models\n",
        "!python -m spacy download en_core_web_sm\n",
        "!python -m spacy download de_core_news_sm"
      ],
      "metadata": {
        "id": "50RLDFoPHRC2",
        "colab": {
          "base_uri": "https://localhost:8080/"
        },
        "outputId": "6f868ec2-a5c3-492b-e1d5-b597edb66635"
      },
      "execution_count": 5,
      "outputs": [
        {
          "output_type": "stream",
          "name": "stdout",
          "text": [
            "2023-06-23 15:03:07.848267: W tensorflow/compiler/tf2tensorrt/utils/py_utils.cc:38] TF-TRT Warning: Could not find TensorRT\n",
            "Looking in indexes: https://pypi.org/simple, https://us-python.pkg.dev/colab-wheels/public/simple/\n",
            "Collecting en-core-web-sm==3.5.0\n",
            "  Downloading https://github.com/explosion/spacy-models/releases/download/en_core_web_sm-3.5.0/en_core_web_sm-3.5.0-py3-none-any.whl (12.8 MB)\n",
            "\u001b[2K     \u001b[90m━━━━━━━━━━━━━━━━━━━━━━━━━━━━━━━━━━━━━━━━\u001b[0m \u001b[32m12.8/12.8 MB\u001b[0m \u001b[31m60.4 MB/s\u001b[0m eta \u001b[36m0:00:00\u001b[0m\n",
            "\u001b[?25hRequirement already satisfied: spacy<3.6.0,>=3.5.0 in /usr/local/lib/python3.10/dist-packages (from en-core-web-sm==3.5.0) (3.5.2)\n",
            "Requirement already satisfied: spacy-legacy<3.1.0,>=3.0.11 in /usr/local/lib/python3.10/dist-packages (from spacy<3.6.0,>=3.5.0->en-core-web-sm==3.5.0) (3.0.12)\n",
            "Requirement already satisfied: spacy-loggers<2.0.0,>=1.0.0 in /usr/local/lib/python3.10/dist-packages (from spacy<3.6.0,>=3.5.0->en-core-web-sm==3.5.0) (1.0.4)\n",
            "Requirement already satisfied: murmurhash<1.1.0,>=0.28.0 in /usr/local/lib/python3.10/dist-packages (from spacy<3.6.0,>=3.5.0->en-core-web-sm==3.5.0) (1.0.9)\n",
            "Requirement already satisfied: cymem<2.1.0,>=2.0.2 in /usr/local/lib/python3.10/dist-packages (from spacy<3.6.0,>=3.5.0->en-core-web-sm==3.5.0) (2.0.7)\n",
            "Requirement already satisfied: preshed<3.1.0,>=3.0.2 in /usr/local/lib/python3.10/dist-packages (from spacy<3.6.0,>=3.5.0->en-core-web-sm==3.5.0) (3.0.8)\n",
            "Requirement already satisfied: thinc<8.2.0,>=8.1.8 in /usr/local/lib/python3.10/dist-packages (from spacy<3.6.0,>=3.5.0->en-core-web-sm==3.5.0) (8.1.9)\n",
            "Requirement already satisfied: wasabi<1.2.0,>=0.9.1 in /usr/local/lib/python3.10/dist-packages (from spacy<3.6.0,>=3.5.0->en-core-web-sm==3.5.0) (1.1.1)\n",
            "Requirement already satisfied: srsly<3.0.0,>=2.4.3 in /usr/local/lib/python3.10/dist-packages (from spacy<3.6.0,>=3.5.0->en-core-web-sm==3.5.0) (2.4.6)\n",
            "Requirement already satisfied: catalogue<2.1.0,>=2.0.6 in /usr/local/lib/python3.10/dist-packages (from spacy<3.6.0,>=3.5.0->en-core-web-sm==3.5.0) (2.0.8)\n",
            "Requirement already satisfied: typer<0.8.0,>=0.3.0 in /usr/local/lib/python3.10/dist-packages (from spacy<3.6.0,>=3.5.0->en-core-web-sm==3.5.0) (0.7.0)\n",
            "Requirement already satisfied: pathy>=0.10.0 in /usr/local/lib/python3.10/dist-packages (from spacy<3.6.0,>=3.5.0->en-core-web-sm==3.5.0) (0.10.1)\n",
            "Requirement already satisfied: smart-open<7.0.0,>=5.2.1 in /usr/local/lib/python3.10/dist-packages (from spacy<3.6.0,>=3.5.0->en-core-web-sm==3.5.0) (6.3.0)\n",
            "Requirement already satisfied: tqdm<5.0.0,>=4.38.0 in /usr/local/lib/python3.10/dist-packages (from spacy<3.6.0,>=3.5.0->en-core-web-sm==3.5.0) (4.65.0)\n",
            "Requirement already satisfied: numpy>=1.15.0 in /usr/local/lib/python3.10/dist-packages (from spacy<3.6.0,>=3.5.0->en-core-web-sm==3.5.0) (1.22.4)\n",
            "Requirement already satisfied: requests<3.0.0,>=2.13.0 in /usr/local/lib/python3.10/dist-packages (from spacy<3.6.0,>=3.5.0->en-core-web-sm==3.5.0) (2.27.1)\n",
            "Requirement already satisfied: pydantic!=1.8,!=1.8.1,<1.11.0,>=1.7.4 in /usr/local/lib/python3.10/dist-packages (from spacy<3.6.0,>=3.5.0->en-core-web-sm==3.5.0) (1.10.7)\n",
            "Requirement already satisfied: jinja2 in /usr/local/lib/python3.10/dist-packages (from spacy<3.6.0,>=3.5.0->en-core-web-sm==3.5.0) (3.1.2)\n",
            "Requirement already satisfied: setuptools in /usr/local/lib/python3.10/dist-packages (from spacy<3.6.0,>=3.5.0->en-core-web-sm==3.5.0) (67.7.2)\n",
            "Requirement already satisfied: packaging>=20.0 in /usr/local/lib/python3.10/dist-packages (from spacy<3.6.0,>=3.5.0->en-core-web-sm==3.5.0) (23.1)\n",
            "Requirement already satisfied: langcodes<4.0.0,>=3.2.0 in /usr/local/lib/python3.10/dist-packages (from spacy<3.6.0,>=3.5.0->en-core-web-sm==3.5.0) (3.3.0)\n",
            "Requirement already satisfied: typing-extensions>=4.2.0 in /usr/local/lib/python3.10/dist-packages (from pydantic!=1.8,!=1.8.1,<1.11.0,>=1.7.4->spacy<3.6.0,>=3.5.0->en-core-web-sm==3.5.0) (4.5.0)\n",
            "Requirement already satisfied: urllib3<1.27,>=1.21.1 in /usr/local/lib/python3.10/dist-packages (from requests<3.0.0,>=2.13.0->spacy<3.6.0,>=3.5.0->en-core-web-sm==3.5.0) (1.26.15)\n",
            "Requirement already satisfied: certifi>=2017.4.17 in /usr/local/lib/python3.10/dist-packages (from requests<3.0.0,>=2.13.0->spacy<3.6.0,>=3.5.0->en-core-web-sm==3.5.0) (2022.12.7)\n",
            "Requirement already satisfied: charset-normalizer~=2.0.0 in /usr/local/lib/python3.10/dist-packages (from requests<3.0.0,>=2.13.0->spacy<3.6.0,>=3.5.0->en-core-web-sm==3.5.0) (2.0.12)\n",
            "Requirement already satisfied: idna<4,>=2.5 in /usr/local/lib/python3.10/dist-packages (from requests<3.0.0,>=2.13.0->spacy<3.6.0,>=3.5.0->en-core-web-sm==3.5.0) (3.4)\n",
            "Requirement already satisfied: blis<0.8.0,>=0.7.8 in /usr/local/lib/python3.10/dist-packages (from thinc<8.2.0,>=8.1.8->spacy<3.6.0,>=3.5.0->en-core-web-sm==3.5.0) (0.7.9)\n",
            "Requirement already satisfied: confection<1.0.0,>=0.0.1 in /usr/local/lib/python3.10/dist-packages (from thinc<8.2.0,>=8.1.8->spacy<3.6.0,>=3.5.0->en-core-web-sm==3.5.0) (0.0.4)\n",
            "Requirement already satisfied: click<9.0.0,>=7.1.1 in /usr/local/lib/python3.10/dist-packages (from typer<0.8.0,>=0.3.0->spacy<3.6.0,>=3.5.0->en-core-web-sm==3.5.0) (8.1.3)\n",
            "Requirement already satisfied: MarkupSafe>=2.0 in /usr/local/lib/python3.10/dist-packages (from jinja2->spacy<3.6.0,>=3.5.0->en-core-web-sm==3.5.0) (2.1.2)\n",
            "\u001b[38;5;2m✔ Download and installation successful\u001b[0m\n",
            "You can now load the package via spacy.load('en_core_web_sm')\n",
            "2023-06-23 15:03:22.633060: W tensorflow/compiler/tf2tensorrt/utils/py_utils.cc:38] TF-TRT Warning: Could not find TensorRT\n",
            "Looking in indexes: https://pypi.org/simple, https://us-python.pkg.dev/colab-wheels/public/simple/\n",
            "Collecting de-core-news-sm==3.5.0\n",
            "  Downloading https://github.com/explosion/spacy-models/releases/download/de_core_news_sm-3.5.0/de_core_news_sm-3.5.0-py3-none-any.whl (14.6 MB)\n",
            "\u001b[2K     \u001b[90m━━━━━━━━━━━━━━━━━━━━━━━━━━━━━━━━━━━━━━━━\u001b[0m \u001b[32m14.6/14.6 MB\u001b[0m \u001b[31m77.5 MB/s\u001b[0m eta \u001b[36m0:00:00\u001b[0m\n",
            "\u001b[?25hRequirement already satisfied: spacy<3.6.0,>=3.5.0 in /usr/local/lib/python3.10/dist-packages (from de-core-news-sm==3.5.0) (3.5.2)\n",
            "Requirement already satisfied: spacy-legacy<3.1.0,>=3.0.11 in /usr/local/lib/python3.10/dist-packages (from spacy<3.6.0,>=3.5.0->de-core-news-sm==3.5.0) (3.0.12)\n",
            "Requirement already satisfied: spacy-loggers<2.0.0,>=1.0.0 in /usr/local/lib/python3.10/dist-packages (from spacy<3.6.0,>=3.5.0->de-core-news-sm==3.5.0) (1.0.4)\n",
            "Requirement already satisfied: murmurhash<1.1.0,>=0.28.0 in /usr/local/lib/python3.10/dist-packages (from spacy<3.6.0,>=3.5.0->de-core-news-sm==3.5.0) (1.0.9)\n",
            "Requirement already satisfied: cymem<2.1.0,>=2.0.2 in /usr/local/lib/python3.10/dist-packages (from spacy<3.6.0,>=3.5.0->de-core-news-sm==3.5.0) (2.0.7)\n",
            "Requirement already satisfied: preshed<3.1.0,>=3.0.2 in /usr/local/lib/python3.10/dist-packages (from spacy<3.6.0,>=3.5.0->de-core-news-sm==3.5.0) (3.0.8)\n",
            "Requirement already satisfied: thinc<8.2.0,>=8.1.8 in /usr/local/lib/python3.10/dist-packages (from spacy<3.6.0,>=3.5.0->de-core-news-sm==3.5.0) (8.1.9)\n",
            "Requirement already satisfied: wasabi<1.2.0,>=0.9.1 in /usr/local/lib/python3.10/dist-packages (from spacy<3.6.0,>=3.5.0->de-core-news-sm==3.5.0) (1.1.1)\n",
            "Requirement already satisfied: srsly<3.0.0,>=2.4.3 in /usr/local/lib/python3.10/dist-packages (from spacy<3.6.0,>=3.5.0->de-core-news-sm==3.5.0) (2.4.6)\n",
            "Requirement already satisfied: catalogue<2.1.0,>=2.0.6 in /usr/local/lib/python3.10/dist-packages (from spacy<3.6.0,>=3.5.0->de-core-news-sm==3.5.0) (2.0.8)\n",
            "Requirement already satisfied: typer<0.8.0,>=0.3.0 in /usr/local/lib/python3.10/dist-packages (from spacy<3.6.0,>=3.5.0->de-core-news-sm==3.5.0) (0.7.0)\n",
            "Requirement already satisfied: pathy>=0.10.0 in /usr/local/lib/python3.10/dist-packages (from spacy<3.6.0,>=3.5.0->de-core-news-sm==3.5.0) (0.10.1)\n",
            "Requirement already satisfied: smart-open<7.0.0,>=5.2.1 in /usr/local/lib/python3.10/dist-packages (from spacy<3.6.0,>=3.5.0->de-core-news-sm==3.5.0) (6.3.0)\n",
            "Requirement already satisfied: tqdm<5.0.0,>=4.38.0 in /usr/local/lib/python3.10/dist-packages (from spacy<3.6.0,>=3.5.0->de-core-news-sm==3.5.0) (4.65.0)\n",
            "Requirement already satisfied: numpy>=1.15.0 in /usr/local/lib/python3.10/dist-packages (from spacy<3.6.0,>=3.5.0->de-core-news-sm==3.5.0) (1.22.4)\n",
            "Requirement already satisfied: requests<3.0.0,>=2.13.0 in /usr/local/lib/python3.10/dist-packages (from spacy<3.6.0,>=3.5.0->de-core-news-sm==3.5.0) (2.27.1)\n",
            "Requirement already satisfied: pydantic!=1.8,!=1.8.1,<1.11.0,>=1.7.4 in /usr/local/lib/python3.10/dist-packages (from spacy<3.6.0,>=3.5.0->de-core-news-sm==3.5.0) (1.10.7)\n",
            "Requirement already satisfied: jinja2 in /usr/local/lib/python3.10/dist-packages (from spacy<3.6.0,>=3.5.0->de-core-news-sm==3.5.0) (3.1.2)\n",
            "Requirement already satisfied: setuptools in /usr/local/lib/python3.10/dist-packages (from spacy<3.6.0,>=3.5.0->de-core-news-sm==3.5.0) (67.7.2)\n",
            "Requirement already satisfied: packaging>=20.0 in /usr/local/lib/python3.10/dist-packages (from spacy<3.6.0,>=3.5.0->de-core-news-sm==3.5.0) (23.1)\n",
            "Requirement already satisfied: langcodes<4.0.0,>=3.2.0 in /usr/local/lib/python3.10/dist-packages (from spacy<3.6.0,>=3.5.0->de-core-news-sm==3.5.0) (3.3.0)\n",
            "Requirement already satisfied: typing-extensions>=4.2.0 in /usr/local/lib/python3.10/dist-packages (from pydantic!=1.8,!=1.8.1,<1.11.0,>=1.7.4->spacy<3.6.0,>=3.5.0->de-core-news-sm==3.5.0) (4.5.0)\n",
            "Requirement already satisfied: urllib3<1.27,>=1.21.1 in /usr/local/lib/python3.10/dist-packages (from requests<3.0.0,>=2.13.0->spacy<3.6.0,>=3.5.0->de-core-news-sm==3.5.0) (1.26.15)\n",
            "Requirement already satisfied: certifi>=2017.4.17 in /usr/local/lib/python3.10/dist-packages (from requests<3.0.0,>=2.13.0->spacy<3.6.0,>=3.5.0->de-core-news-sm==3.5.0) (2022.12.7)\n",
            "Requirement already satisfied: charset-normalizer~=2.0.0 in /usr/local/lib/python3.10/dist-packages (from requests<3.0.0,>=2.13.0->spacy<3.6.0,>=3.5.0->de-core-news-sm==3.5.0) (2.0.12)\n",
            "Requirement already satisfied: idna<4,>=2.5 in /usr/local/lib/python3.10/dist-packages (from requests<3.0.0,>=2.13.0->spacy<3.6.0,>=3.5.0->de-core-news-sm==3.5.0) (3.4)\n",
            "Requirement already satisfied: blis<0.8.0,>=0.7.8 in /usr/local/lib/python3.10/dist-packages (from thinc<8.2.0,>=8.1.8->spacy<3.6.0,>=3.5.0->de-core-news-sm==3.5.0) (0.7.9)\n",
            "Requirement already satisfied: confection<1.0.0,>=0.0.1 in /usr/local/lib/python3.10/dist-packages (from thinc<8.2.0,>=8.1.8->spacy<3.6.0,>=3.5.0->de-core-news-sm==3.5.0) (0.0.4)\n",
            "Requirement already satisfied: click<9.0.0,>=7.1.1 in /usr/local/lib/python3.10/dist-packages (from typer<0.8.0,>=0.3.0->spacy<3.6.0,>=3.5.0->de-core-news-sm==3.5.0) (8.1.3)\n",
            "Requirement already satisfied: MarkupSafe>=2.0 in /usr/local/lib/python3.10/dist-packages (from jinja2->spacy<3.6.0,>=3.5.0->de-core-news-sm==3.5.0) (2.1.2)\n",
            "Installing collected packages: de-core-news-sm\n",
            "Successfully installed de-core-news-sm-3.5.0\n",
            "\u001b[38;5;2m✔ Download and installation successful\u001b[0m\n",
            "You can now load the package via spacy.load('de_core_news_sm')\n"
          ]
        }
      ]
    },
    {
      "cell_type": "code",
      "source": [
        "# Load the spaCy models (Models for tokenization)\n",
        "\n",
        "spacy_de = spacy.load('de_core_news_sm')\n",
        "spacy_en = spacy.load('en_core_web_sm')"
      ],
      "metadata": {
        "id": "odhc20NR8AA-"
      },
      "execution_count": 9,
      "outputs": []
    },
    {
      "cell_type": "markdown",
      "source": [
        "Next, we create the tokenizer functions. These can be passed to torchtext and will take <br> in the sentence as a string and return the sentence as a list of tokens."
      ],
      "metadata": {
        "id": "hesvDB9o9vAX"
      }
    },
    {
      "cell_type": "code",
      "source": [
        "doc = [tok.text for tok in spacy_en.tokenizer(\"This is a sentence!\")]\n",
        "doc"
      ],
      "metadata": {
        "colab": {
          "base_uri": "https://localhost:8080/"
        },
        "id": "6djlOo3RAJ2x",
        "outputId": "860d2c16-d6f8-4269-c00c-3fe20daa5c36"
      },
      "execution_count": 10,
      "outputs": [
        {
          "output_type": "execute_result",
          "data": {
            "text/plain": [
              "['This', 'is', 'a', 'sentence', '!']"
            ]
          },
          "metadata": {},
          "execution_count": 10
        }
      ]
    },
    {
      "cell_type": "code",
      "source": [
        "doc = [tok.text for tok in spacy_de.tokenizer(\"Sie können TorchText jetzt mit pip installieren!\")]\n",
        "doc"
      ],
      "metadata": {
        "colab": {
          "base_uri": "https://localhost:8080/"
        },
        "id": "H-oRExOT20L7",
        "outputId": "0d0b93fd-f924-4838-85fe-9cfe9a12137f"
      },
      "execution_count": 11,
      "outputs": [
        {
          "output_type": "execute_result",
          "data": {
            "text/plain": [
              "['Sie', 'können', 'TorchText', 'jetzt', 'mit', 'pip', 'installieren', '!']"
            ]
          },
          "metadata": {},
          "execution_count": 11
        }
      ]
    },
    {
      "cell_type": "code",
      "source": [
        "def tokenize_de(text):\n",
        "    \"\"\"\n",
        "    Tokenizes German text from a string into a list of strings (tokens) and reverses it\n",
        "    \"\"\"\n",
        "    return [tok.text for tok in spacy_de.tokenizer(text)][::-1]\n",
        "\n",
        "def tokenize_en(text):\n",
        "    \"\"\"\n",
        "    Tokenizes English text from a string into a list of strings (tokens)\n",
        "    \"\"\"\n",
        "    return [tok.text for tok in spacy_en.tokenizer(text)]"
      ],
      "metadata": {
        "id": "qSnBSBCy9WOV"
      },
      "execution_count": 8,
      "outputs": []
    },
    {
      "cell_type": "markdown",
      "source": [
        "In the paper we are implementing, they find it beneficial to reverse the order of the input <br>which they believe \"introduces many short term dependencies in the data that make the<br> optimization problem much easier\". So, we reverse the German sentence after tokenization.<br>\n",
        "<br>\n",
        "The primary reason behind reversing the input order is to address the issue of vanishing gradients,<br> which can occur in recurrent neural networks (RNNs) during backpropagation. RNNs have a<br> tendency to have difficulty capturing long-range dependencies, especially in the initial steps<br> of the input sequence. When the input sequences are reversed, the important information<br> that was previously at the end of the sequence is now at the beginning, allowing the model to<br> capture it more effectively."
      ],
      "metadata": {
        "id": "t2lM_K-xEAD8"
      }
    },
    {
      "cell_type": "markdown",
      "source": [
        "torchtext's `Field`s handle how data should be processed."
      ],
      "metadata": {
        "id": "k9AiQYH2EkSJ"
      }
    },
    {
      "cell_type": "markdown",
      "source": [
        "We set the `tokenize` argument to the correct tokenization function.<br>\n",
        "Then we specify `init_token` as `<sos>`, `eos_token` as `<eos>` and set `lower = True`."
      ],
      "metadata": {
        "id": "dfQcaarZEtzv"
      }
    },
    {
      "cell_type": "code",
      "source": [
        "#SRG for source and TRG for target\n",
        "SRC = Field(tokenize = tokenize_de,\n",
        "            init_token = '<sos>',\n",
        "            eos_token = '<eos>',\n",
        "            lower = True)\n",
        "\n",
        "TRG = Field(tokenize = tokenize_en,\n",
        "            init_token = '<sos>',\n",
        "            eos_token = '<eos>',\n",
        "            lower = True)"
      ],
      "metadata": {
        "id": "5tdAyFRUD_fh"
      },
      "execution_count": 12,
      "outputs": []
    },
    {
      "cell_type": "markdown",
      "source": [
        "Next, we download and load the train, validation and test data."
      ],
      "metadata": {
        "id": "GKLYQLmFI4gM"
      }
    },
    {
      "cell_type": "code",
      "source": [
        "train_data, valid_data, test_data = Multi30k.splits(exts = ('.de', '.en'),\n",
        "                                                    fields = (SRC, TRG))"
      ],
      "metadata": {
        "colab": {
          "base_uri": "https://localhost:8080/"
        },
        "id": "f23HN__mI1t_",
        "outputId": "d77d651c-218e-432f-a612-53f46f94b874"
      },
      "execution_count": 13,
      "outputs": [
        {
          "output_type": "stream",
          "name": "stdout",
          "text": [
            "downloading training.tar.gz\n"
          ]
        },
        {
          "output_type": "stream",
          "name": "stderr",
          "text": [
            "training.tar.gz: 100%|██████████| 1.21M/1.21M [00:05<00:00, 241kB/s]\n"
          ]
        },
        {
          "output_type": "stream",
          "name": "stdout",
          "text": [
            "downloading validation.tar.gz\n"
          ]
        },
        {
          "output_type": "stream",
          "name": "stderr",
          "text": [
            "validation.tar.gz: 100%|██████████| 46.3k/46.3k [00:00<00:00, 92.4kB/s]\n"
          ]
        },
        {
          "output_type": "stream",
          "name": "stdout",
          "text": [
            "downloading mmt_task1_test2016.tar.gz\n"
          ]
        },
        {
          "output_type": "stream",
          "name": "stderr",
          "text": [
            "mmt_task1_test2016.tar.gz: 100%|██████████| 66.2k/66.2k [00:00<00:00, 88.2kB/s]\n"
          ]
        }
      ]
    },
    {
      "cell_type": "code",
      "source": [
        "print(f\"Number of training examples: {len(train_data.examples)}\")\n",
        "print(f\"Number of validation examples: {len(valid_data.examples)}\")\n",
        "print(f\"Number of testing examples: {len(test_data.examples)}\")"
      ],
      "metadata": {
        "colab": {
          "base_uri": "https://localhost:8080/"
        },
        "id": "pDfwzzQTI8PG",
        "outputId": "f3c11eaf-f780-41be-9900-9aff65e8d354"
      },
      "execution_count": 14,
      "outputs": [
        {
          "output_type": "stream",
          "name": "stdout",
          "text": [
            "Number of training examples: 29000\n",
            "Number of validation examples: 1014\n",
            "Number of testing examples: 1000\n"
          ]
        }
      ]
    },
    {
      "cell_type": "code",
      "source": [
        "# Print our the first sentence\n",
        "print(vars(train_data.examples[0]))"
      ],
      "metadata": {
        "colab": {
          "base_uri": "https://localhost:8080/"
        },
        "id": "JnKQlxzLJAbG",
        "outputId": "10e9a545-e533-4bd1-df22-1bca425c1ed6"
      },
      "execution_count": 15,
      "outputs": [
        {
          "output_type": "stream",
          "name": "stdout",
          "text": [
            "{'src': ['.', 'büsche', 'vieler', 'nähe', 'der', 'in', 'freien', 'im', 'sind', 'männer', 'weiße', 'junge', 'zwei'], 'trg': ['two', 'young', ',', 'white', 'males', 'are', 'outside', 'near', 'many', 'bushes', '.']}\n"
          ]
        }
      ]
    },
    {
      "cell_type": "markdown",
      "source": [
        "The period is at the beginning of the German (src) sentence, so it looks like the sentence <br>has been correctly reversed."
      ],
      "metadata": {
        "id": "Rc3In3iK_vUw"
      }
    },
    {
      "cell_type": "markdown",
      "source": [
        "Next, we'll build the vocabulary for the source and target languages. The vocabulary is used to <br>associate each unique token with an index (an integer). The vocabularies of the source and <br>target languages are distinct."
      ],
      "metadata": {
        "id": "U4G1QPXh_1ye"
      }
    },
    {
      "cell_type": "markdown",
      "source": [
        "For this, we will use `build_vocab` library by passing the dictionary of data<br> and then using the `min_freq = 2` argument. <br>\n",
        "`min_freq` is the minimum frequency needed to include a token in the vocabulary."
      ],
      "metadata": {
        "id": "wWAVCEQh__vr"
      }
    },
    {
      "cell_type": "code",
      "source": [
        "SRC.build_vocab(train_data, min_freq = 2)\n",
        "TRG.build_vocab(train_data, min_freq = 2)"
      ],
      "metadata": {
        "id": "pyGAkBnDJFn2"
      },
      "execution_count": 16,
      "outputs": []
    },
    {
      "cell_type": "code",
      "source": [
        "print(f\"Unique tokens in source (de) vocabulary: {len(SRC.vocab)}\")\n",
        "print(f\"Unique tokens in target (en) vocabulary: {len(TRG.vocab)}\")"
      ],
      "metadata": {
        "colab": {
          "base_uri": "https://localhost:8080/"
        },
        "id": "v-vLAcgZA3LT",
        "outputId": "2b25018b-541f-4fed-cbfc-e7e020074e6b"
      },
      "execution_count": 17,
      "outputs": [
        {
          "output_type": "stream",
          "name": "stdout",
          "text": [
            "Unique tokens in source (de) vocabulary: 7853\n",
            "Unique tokens in target (en) vocabulary: 5893\n"
          ]
        }
      ]
    },
    {
      "cell_type": "markdown",
      "source": [
        "The final step of preparing the data is to create the iterators. <br>\n",
        "They will be used to iterate through our data and return batch of data with source and target.<br>\n",
        "Also, we convert the readable tokens into sequence of corresponding indexes.<br>"
      ],
      "metadata": {
        "id": "n-BTXgu9BLbv"
      }
    },
    {
      "cell_type": "code",
      "source": [
        "# Checking the device\n",
        "device = torch.device('cuda' if torch.cuda.is_available() else 'cpu')\n",
        "device"
      ],
      "metadata": {
        "colab": {
          "base_uri": "https://localhost:8080/"
        },
        "id": "oBQAddUNA-my",
        "outputId": "3d575635-9e7d-49c9-e70a-9532983b9cd9"
      },
      "execution_count": 20,
      "outputs": [
        {
          "output_type": "execute_result",
          "data": {
            "text/plain": [
              "device(type='cpu')"
            ]
          },
          "metadata": {},
          "execution_count": 20
        }
      ]
    },
    {
      "cell_type": "markdown",
      "source": [
        "In order to create iterators, we use `BucketIterators`."
      ],
      "metadata": {
        "id": "BObEvAsIB_Yh"
      }
    },
    {
      "cell_type": "code",
      "source": [
        "BATCH_SIZE = 128\n",
        "\n",
        "train_iterator, valid_iterator, test_iterator = BucketIterator.splits(\n",
        "    (train_data, valid_data, test_data),\n",
        "    batch_size = BATCH_SIZE,\n",
        "    device = device\n",
        ")"
      ],
      "metadata": {
        "id": "BrTmmDBEB2AR"
      },
      "execution_count": 22,
      "outputs": []
    },
    {
      "cell_type": "code",
      "source": [
        "for i in train_iterator:\n",
        "  print(i)\n",
        "  break"
      ],
      "metadata": {
        "colab": {
          "base_uri": "https://localhost:8080/"
        },
        "id": "jtL4rDgwCft6",
        "outputId": "73ff3401-92b3-4e42-d2ea-885c916ca7e7"
      },
      "execution_count": 24,
      "outputs": [
        {
          "output_type": "stream",
          "name": "stdout",
          "text": [
            "\n",
            "[torchtext.data.batch.Batch of size 128 from MULTI30K]\n",
            "\t[.src]:[torch.LongTensor of size 23x128]\n",
            "\t[.trg]:[torch.LongTensor of size 21x128]\n"
          ]
        }
      ]
    },
    {
      "cell_type": "markdown",
      "source": [
        "## Building Seq2Seq model"
      ],
      "metadata": {
        "id": "2jyZyxrVKJB6"
      }
    },
    {
      "cell_type": "markdown",
      "source": [
        "We'll be building our model in three parts. The encoder, the decoder and a seq2seq model <br>that encapsulates the encoder and decoder and will provide a way to interface with each."
      ],
      "metadata": {
        "id": "4EcfeE7RKUD9"
      }
    },
    {
      "cell_type": "markdown",
      "source": [
        "### Encoder"
      ],
      "metadata": {
        "id": "pdkZFY_hK8J-"
      }
    },
    {
      "cell_type": "markdown",
      "source": [
        "\n",
        "\n",
        "Here, we have a 2 layer LSTM.<br>\n",
        "![image.png](data:image/png;base64,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)\n",
        "<br>\n",
        "Hidden states:<br>\n",
        "![image.png](data:image/png;base64,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)<br>\n",
        "The hidden states in first layers are given by:<br>\n",
        "![image.png](data:image/png;base64,iVBORw0KGgoAAAANSUhEUgAAARgAAAA7CAYAAACgwZWgAAAAAXNSR0IArs4c6QAAAARnQU1BAACxjwv8YQUAAAAJcEhZcwAAEnQAABJ0Ad5mH3gAABCfSURBVHhe7ZwBTNRXnse/ezEZNjZBbYKyl/KPJILdnGMnW5RNz1kSbyq5lZM9WUlvqcRK55ZMpbdBuVpge+5INKibHspxmaLNVLZ3VNyguF1gtlkdrxGkKRUvFmgqHXoKTLaGSWpksiZzv/f/v4EZZgZnhvlbuvl92uf//3/v/d///d97v9/7/d77D99ZuXJlAAzDMDrwV/LIMAyTcljBMAyjG6xgGIbRDVYwDMPoBisYhmF0gxUMwzC6wQqGYRjdYAXDMIxusIJhGEY3WMEwDKMbrGAYhtENVjAMw+gGKxiGYXSDFQzDMLrBCoZhGN1gBcMwjG6wgmEYRjdYwTAMoxusYBiG0Y2UKhhlpx3tH7TDni8jGCYF8LhKnm+67VKjYI5fxsSXE+hrscFi2ogcRcYzzGLgcZU8S6TtUqNg9hcg86lMHL7mkxEMkwJ4XCXPEmk7XoNhGEY3WMEwfzEoLzkxODGGnoNmGZM4qSgjEgua+icw1muns78MlH2dGJsYhPOlhX2v2ApmuxPD9+7hXjD0N8mEJczJvrn6xhH6Tsr7lgxN6BN182r1G7tgk/GLx3ZhLOL9wwIJ1fAHTtTunDdgKmkgzcs7ccWOsFxR8ty71wdXxDMncLkhvPyo9UpmrBU2ob2hCOi2YtsRt4xMkFSUERUXql44hdGnbXBQnya9HLKEZNJzshjWbqCooR1NhTIyCrEVzKVyrF9lQsdt7dL7eSobXCf25WPVqlUwtXtkxCja6FrEBYNpRz06PtX80hVPlqjHpUMV8qmO9Tr4zc071qrvX39Vlu1zo362XQpQ5RyFwVSE6pYedO4LEYGWYqwVeWrdCNbKsKECzlBFoeahMs6Ldvdh4EgBlZkPy/xnwgAjWQj2bHlJqPXaWqWNM98AGrbSszZXaYlxY4HjcBlyfC6c2OOScYmSijIW4HYDrO8MIW1LHRwHk1QxS0wmXXtOwOXLQdlRZ0zL7BEuUhmU1eLow/DVDjXm24DnoV+eReK52gzrc6cwcJ+G+3L15RgMoe21bTguFMGyDJhfD1cCc3jhGRfHSEWhlvGxh0bKFEaODcm4EO56oKp9gxEVb8+zgAbbcOMOPds7ghODMi4BlIP7UUR1GeqsQZuMS5RUlPEoPLWtcHsNyCtvJMlKlqUkk22o6aS+znoetfMs0yALKxhrHnKW0/H+KAZatKhvM8bCEhRtEQ1xAu5P/Uhfk6slMCrN41PaCSmBLXu103CmcfW1rtiKYiHuX0XNBc2yjLCAFoWZ3Lo8GO4PwPVa0HJNlFSUEQ9taL5G5WeY8eIBGZUoS0wmPa+5aLKmCWdbLbViJAsqGPMPFaSLk7sjC2t1azsGv5xA3Q9F7gxY3pzARL8D5M0uKSoOOdC0f7t6fvXOJJC+GkvNSVrydJcnrShce2rQFdMCikI846qgDHminNvX0aDFJE4qyogTd/co2YH0/pZaGZMYS08mG3BduGzZedhboMWEsqCCKZFf5/ge5qJzjCpIFRYLkGP9TlSEDg5HKUxPZSIzQ/r0mXS+2YoumbwUUHY6sGWtvCDce0xYtb4UHcGFVRn6Wqrh7B9W33VCLLZ+OYjOQ/M9TAvs7/VhbILSJyifCGPz8pkq4PhgmPJo7TahLqI6UGGS6RKj1YG+z0S7ynxUzotKmkwNx3jAqeZVnyf64ZNO2OWibNhiKZVx+ZMxrf7eMfQ0xLcjYsuSLqOYyU9rp9FIWFHM4kJ5IhZQPOOq2KiW4b1zQ7uOBvVF0wXRX1obi7YefDdksfURZVgOdWJQjH/R395has9aOD6k9qXyRPtePprA3lD7KCYf0utnGZOa3JaiTN6446V/FShRmmEBBVOL3CztLP17Brj256sf7pz4hFyLdUWwpXQbTy9yUCaFbvCtEijLZHQYYmHVhOZBbd0mp3Q/cj+uQ77onN0kDMsVmCtrYVdTBWLL8R3Y/k7BVKcVJuq4fX/0wZAekq+wEZd/24iSrGGc+nsqR5S1pw2erBI0vt83u+outvouHC2hWvajYZuWL3//JfiWG7QMIZjf7EPPwSIo985htxgsu9swtdoM25sO1NLAUhdL/6mLZkeC6pLr70LvZ3S+LB15BY8YytlUTksf9m+h2c7vQdcbVjTIhcToJKgoQlmEBRQN21pNKU57Y6xHFNIE8n4jyjZRrV/RxrDpzAiUwn1oLNWyLFSG6COHVcGQne7NLEbX3QzkVVajxOBCfYcHfmpf404bKmT+R+PBtFjzzqDxokUkwNKUyQ7vtHpUno5shdgKJujrUYN0VRagRt0hoE54MKMev7s8Qz0mTxEc/ZoGTih82IQ8WcKjmdtFKtjXAQ/NHNHxYPJr7b1wuws1lZRXnHdfh0cMhmUKNlSKCBL0t2iwriMFcLcX9TLfwLUblM8P383rcJOo2Q++CCPJ6mj3q3OLlt31sJJ5DEMOfnpQCGQ1HDVmMnf9GDhTPJvPc74eF28Fd10k2Xb8qjSH7AUv3L+uIvEmuqvQdZOU4vI8lAQHVrcPWlf70N9WhfJXatDa3oqaV6LsyqSbURds0z6yhKj8tNsdqHrOhPIzWl8vyON0lRZgzQrhAvgwOaJdh5FtQ2dLGXIM1MZNpbDKMUxNTv8/wIxccopdRhkabWZMX3pVtkkG0lTjkso7b4XyfYXegO686UKriI6LVozfE8cVWC0VXNzoLpNJMjJJrUdD6snIMRBTwcz6ejcvobxbjSLM2KSIWD88Nxe7gt0F62Y5uycSnqvCgCwhEYZ+04ABdVAHsaH9f8l9qJeXEh+ZybE3/xSUmaSJ+vl1TdAJz0kyR9dmYu3WGoqrhmWDOuwweStcUD23tI4wbLCg+t+2zA6WkSPiuAB7t8CoFjkMd7sWJWj7fFI9KjnzbdMpjItvfAZJuVSSkom2M+Nz43CwTfOt6PjMD0N2CY79V1PMLcf5RCiKqBZiNCItoGRJj+5NqpgPVsAshqvXjbNH6GkmCyqOdqLHasTM1Vb88rKWL3YZQ2h9oxyvBr+JyX4eOaoMU59RP9RvzVQnr7X/2KwmBzE3dKLvQyeNhIUwwLBKnsaJ/jIZSUI/lkxTaxdGTAVjydYEyXM75JuAgr0wChPt/hDcEUJhg+MDMuPfXKrLph64L3Tg3B9uapfZG5HzPeCBnMXiYzsynpSnsajMwqM3v1cj67k12mCJg4qn5cwQanVQ6Nu+Bv77fvgfRrpUCUGWi/XXbtW9MqwrQ23cK53zFIVtvRobF/MsoH0p39CbmwxEux0TbfZeIyrI/HU3WVGwo1mr94IMwdXeBXfQXdybo7mC4yOz36JEo6TAjBySnxXyOlU8VplM0Y8lYygYGzaovp6XzPy5+dxcri2G+W/2ooH89qJSC4xaEplvFqoIdUDcWvlxuEjhtNmtqDkp36dUwRox0zu0y/i4CZ/0XtK+G2P4fBp0UxZiGr7bPmGpx8X0jMwZanWEBrKcFk371Gy9o/nSMQlVFBkZcStNQagFlJGRyJ1z+KRnG8ncZDB0RrbTOhPytxbDekS6wJLYZYRj+xtNyny3r85auXOfPgSxIYsmLoyTctIiYkATg+oqxcvjkMkQkvmx5Exk3ugKptSM9aK/w0zyMtjIRKNI9HedgPKLRjgPVcy+jEKzRTqlDV+L10x7vC5SOAoaC/Ng8E0imuseGzdOD0hhWpdHXR5Cth09Y31wPHEaA+rslg7FGDrw6Kl0rYrR7QGc/udeDN1XY5F7UBxj0/G7G7OLtxvnbQVahMnfkoBCiIP01bJXC6vRRH0c/haRzCmKRAmxgJLE85Xq/SPyk6bgZEAK///UiBAUVBwia0bu6MUsQywQi52je8NwlpbBnCt6z4/RAbnikl2LY285UP1j7bKxlybACbvmlmX9FO1jl9H4rJY2RwWyVIGfxlSIu0uqCmX1tagunFUP4TwWmUySXM0a901rLnso0RUMVVp1NcdvYs673ARFRPpuwNVjw79vz8Goqxltu53qfnuf2C59mIbNr4stwNQO+ERRlsV2GZQtZWh8vwcVG+jiKy8uadGPRq4vuF+uQdtnZFGQ2b2/144SdYHSiOpTZcjzjeDcJTesdW0YpSxKoRP24O80TNVwFFIb+UfRVmclVXUCDedHabgakPez9tktRuOBTm03h0h7Yo0m3L+pwcluL+VVUHTcOSsYYuvdXr6R+knOldlp6qKjsAjSEl44HcHkV/I0y6guvJa99DLKfkz9Tv+VqMpxNXIPRBOABRRFdgk2/jW9T0Yuqudt0auEWEDJ0Pqpdu+KjPluAE0Gl0X7kqLfNLeqpOyshfNDEnyxaC4n3JhlFG5CjmhQ7zCGvv8izKpQzODB1+Jogf0/SZjvtqFBfpxX83wm8jtG6cwH969oMlxbgJqP1KQQyHUS3fvVJDlgc5S8+x6aflGN2nedcET5nmQpy2RJhmbNT42Fr0WprFy5MjA/HHBNBQKBmcCN/3gmJP6ZQN3vvwjM/JlSZmYCX7gOB340m1YXuDJNt4yeDeyYjfsGQtsIVSJ+pt11dN/ZQORd04GRUfFC86D30561K3DKNRKYnqG4P88EZr6eCUzfOhc48IOQurxwOHDx1rTaViJd5Ju+dTFw+IWQPBR2NfUGRv4kyxF5/zQSuEL3zTESOCvz/uhfzwVu3KEyRR9QmTNTI4Hepl1qWp07Sn2nrwTq5L1R0wUheWbrTOVTZegZXwR6f99PrTGfuTqFhl2dX4SlRX3mbBuGhl2Bi55YaY8IP7kYEE8NDJ2Kkv5M4MB/Uz8F20sE0b7OAyFjl0KsMn5A41oVBdkWjccDvR6tL0VfRfQ5hVNDlP/r64HDIXFh4ee9AbXIa4fD4nc4R0jiNEbaQvLL8E3JpNaHU4Hen0dPF0F9Z2rBcz+JTPuO+EfqmuQpbcdwiwUPzlthellnc4xhwjDD8VEnSlYP4MRT25L8EjcVZQhq0fNlNfLIqine3ArDjhUYveAOs+zMbw+ic8caDBzJxLZjMjKIyQLnW+3I/Z9VyP8XGZcsUWXShvaP9mHjE/IyGjPDOPtM8WwbiA847Vv8cFWuF0VGQb7zVAeKnxWWeTgxd5ESwVyYQ+abD56PO8gFKYIlminMMLrgRkPPEPzL82A5qjqUSZCKMgj5nYrXcx2GFnJ1XhcfUYYi10zGe3F8vnIR+CxQsrzwXJPXiyC6TDaj9Nn1WL9+gRCiXOJBOWpB3nLxXVBDhHIRpETBqJ8vP/RgtI/8wDNNsP3tIjqJYRLEU9uA3nHAWJz8r5RTUQb+4MINL5CRZ8fJPA/a3pAfRUqUhgqYM3xwn/5lWHyQssP/AOO4G81RLYXEeDwyWYbGYqP6cepx8Z1RFFLiIllO9uGdnymY8fow9cfjKK1sXdTOAMMkjNjxebsMhu5SmJL9ey6pKCMW2eRKXKlGzsf10b/B2e7E4BkjBnab1D/ktFgWLZPix5L1ZqwxGGAQGxx+P/zjYud37vdMFnL32gv9aNuTj6oYdU7NGgzDLAHEn7vsbDDD21Se9F+kS0UZkWi/XyvytcL6fH1U6+XbhviN1uXXFbhrixf8aQkrGIZhdCMlazAMwzDRYAXDMIxusIJhGEY3WMEwDKMbrGAYhtENVjAMw+gGKxiGYXSDFQzDMLrBCoZhGN1gBcMwjG6wgmEYRjdYwTAMoxusYBiG0Q1WMAzD6ATw/xu9sqEfUerhAAAAAElFTkSuQmCC)<br>\n",
        "Hidden states in the second layer are given by:<br>\n",
        "![image.png](data:image/png;base64,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)<br>\n",
        "\n"
      ],
      "metadata": {
        "id": "Z2nPhKVhLhWK"
      }
    },
    {
      "cell_type": "markdown",
      "source": [
        "Using a multi-layer RNN also means we'll also need an initial hidden state as input per layer,<br> h0 and we will also output a context vector per layer, z."
      ],
      "metadata": {
        "id": "UaYEKsm1OVId"
      }
    },
    {
      "cell_type": "markdown",
      "source": [
        "In seq2seq, we also need hidden cell state, which can be achieved through use of LSTM."
      ],
      "metadata": {
        "id": "swczeQ5lPUtW"
      }
    },
    {
      "cell_type": "markdown",
      "source": [
        "![image.png](data:image/png;base64,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)"
      ],
      "metadata": {
        "id": "i_kxsLBPPJLM"
      }
    },
    {
      "cell_type": "markdown",
      "source": [
        "Similar to h0, c0 will also be initialized as tensor of zeros.<br>\n",
        "Also, our context vectors will be now both final hidden state and final cell state."
      ],
      "metadata": {
        "id": "YOJfmZlKPieG"
      }
    },
    {
      "cell_type": "markdown",
      "source": [
        "![image.png](data:image/png;base64,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)"
      ],
      "metadata": {
        "id": "rMZ31eYNP8vM"
      }
    },
    {
      "cell_type": "markdown",
      "source": [
        "Let's create a Encoder module."
      ],
      "metadata": {
        "id": "hXPtgOKfQbo8"
      }
    },
    {
      "cell_type": "code",
      "source": [
        "class Encoder(nn.Module):\n",
        "\n",
        "  def __init__(self, input_dim, emb_dim, hid_dim, n_layers, dropout):\n",
        "    super().__init__()\n",
        "\n",
        "    self.hid = hid_dim\n",
        "    self.n_layers = n_layers\n",
        "\n",
        "    self.embedding = nn.Embedding(input_dim, emb_dim)\n",
        "\n",
        "    self.rnn = nn.LSTM(emb_dim, hid_dim, n_layers, dropout = dropout)\n",
        "\n",
        "    self.dropout = nn.Dropout(dropout)\n",
        "\n",
        "\n",
        "  def forward(self, src):\n",
        "\n",
        "    embedded = self.dropout(self.embedding(src))\n",
        "\n",
        "    outputs, (hidden, cell) = self.rnn(embedded)\n",
        "\n",
        "    return hidden, cell"
      ],
      "metadata": {
        "id": "_BSGb9T1Cl1C"
      },
      "execution_count": 25,
      "outputs": []
    },
    {
      "cell_type": "markdown",
      "source": [
        "### Decoder"
      ],
      "metadata": {
        "id": "XRc-7oUIVhkR"
      }
    },
    {
      "cell_type": "markdown",
      "source": [
        "![image.png](data:image/png;base64,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)"
      ],
      "metadata": {
        "id": "a5iWJwEHVo7A"
      }
    },
    {
      "cell_type": "markdown",
      "source": [
        "![image.png](data:image/png;base64,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)"
      ],
      "metadata": {
        "id": "uNeQILk4Vo13"
      }
    },
    {
      "cell_type": "markdown",
      "source": [
        "![image.png](data:image/png;base64,iVBORw0KGgoAAAANSUhEUgAAAIAAAAAkCAYAAABBszIzAAAAAXNSR0IArs4c6QAAAARnQU1BAACxjwv8YQUAAAAJcEhZcwAAEnQAABJ0Ad5mH3gAAAjRSURBVHhe7Zp/TFvXFce/m5CciWomdOJHt+YJphE6DQdLJaFKefUfM6ApJJ5CSjVYUDpqKXIgm6BWMkDb5HiJ3GSj0AjJY62cknZOrMiEaII40SzTKg5EBYzUYFfCMpPiYC1WPKka1qi2834ANnWCn/OjBPsj2fe9c59sv3vPPed7rt+3tm7d+j9kSFu+LbYZ0pSMA6Q5GQdIczIOkOZkHGDDYoLzn0EEQ2GEw2EEuWO/E70qsfsxkakCNjQ62P0GsNk+DL5eiTanaH6MZCLARka1E4yc2jseuJ7A5HNkHOBJUtwCy60g/H/vBCuaJKHZDoaaSGAaNsESTzFFiC+CmPyghb8uFR7ZAdR/GIU/OAnLm6n+hGcVBvWnnXTvQp72XzdBLfYIqNH7sQF1WVeh/ZkRLtEqhc4fc2MaRWDqrGBYy9xZaFqvAvsMsPbFf3uyPJIDqE85YW5VILqQgzrjKKytaeQEh9/FO28qsOVeBItZgFx5ADqt2Eeo+01o+lEEjnea4RBt0mhBRZEMWArA8w/RlIiRZpwZiaCk0QRLrWiTQMoOUEHef45Wva/vIErLVdCP/AcsRQNrzCBsZgxvsODSs3fsMqZv++C5NoizZqEPxZ3o2EOLYeYy9OdFm1RUVWCepzYcwHhM/mf63Ah+2huXUga7LsOzxKD6uEFyKkjZASY62tCwX4Wa33H+HcDAISVq9mmhXx6ETY0OZdu4NoQFpx6a3ZVQvd69stLZ4/WoyI5iYkRPI5MiaoafzOjcOAYFC9EEE9kDE7b4lDKnh2MqClnZHnRKLBMfIQWQMh2Lvz3PmCv1G36WWFbnX1J4tgqmVVg0KWnqlrwYPymaUqCzYjvfej3L8k+B9iED1HKKCPavKwrjhJfeGVQ0S5Ob0h2AlKd1yo9gMIxwaBb22Lx/2IJJvx/OnpQ078bH6OQ3ZcKX6oRQm12Bdu48PAnzy/wVRD0UxdSEFzAtGBLAoKXfLQhIboOH2klucrmuRhpDsh0pp/xPKJop5PMbQk50Vsn5iGBLVBJ6Fige0ScXSxODEh2ARe+HXWDvDaLmjy5EsvLAvtEu9pHX/ryaVoYcctkmjQMUX3Nzc6Ed4YaayrOxbv48N1cJ7S3eRItgG/K59t5C4tKNYHusMDRQKDfXoPDFBgz4aOKqmgQReb4ZyhcLUZjHfS69Cuk45rxwd1viisK6gPtc+0IZycfkkeYAjTpUv3QXw4ZuKKpKeREU+RcXejhE1Up+6HM+Pgdg9lOJc50GrFI0PJQ6mG+Kq0rKi0RVhfgJycAyeXy7MJ+gPPtBzppxWUs9dLUlkOEufBYPnVeQnqBxi/gwcU24IjW8uBuhRp4jSQhKc4DPB9B16ChFwnb88hVuEEIYvyAOwrJqjcuLOpivuzHaUy+er6GYBasUj9dCVQY3Oe5+HdTKHShJ6q6God0lrhgpL1pVE+InrE8LtvHzH8HdGd4Qz3e3iAfrwaDeHYR/qg4Y0kNVVAPjnNj1KGRt4R0wWaQ5wKQDtiESeserocim89A0hpfLHHHXCvNeGHkDoVXT5JWAyRXP1/IbE+w9BvFkDR0qfnJO3ODceiOhQAHn6FjAfEoVjw36sy6ElugwSwb5NgXYgyYMXdIJ3U8Z6SKQaK9SUAijNeB1rZQowq4VFYS+1czHkBqW00qZvfGgbPi4eQopYDnHhwKJc/G/F8WDRCjQcsqM9udIQ+UpoTlkxOCk4OBypZriZQwqA+yfumF5WzxPlqVFGvHkSckBFv8r3ORqDlzO/xEExmlYDgpK1r2fnGJpC3b9llTuR1KkSao8+RTAKDinJhZ8iUVe4D4/AfLvCWVcLOxfLDBp69H0dgfaqWB2DZ1B21sOoXSe9+EKf5WIRg32JQbMc+L5umxHAV+a3id1kTwpOcBMiNebyMlvoncqaT7QYRef/0nI9FN7jlOyJ3DzSzr2X0QDDbLyFwN08uyz54Ucvg3MPWCD1zyDABfen88nuRdPXvZ36D2KgHUAZ3gL1fZ/VtMIRuD6W/ymka6I4sx628CxNOSD/2V35vGAfw4SkpIDuN7SY4BCV56ql2pYNzp/WsCnBNzxru5aNbAoJY8MeFwrodIwNIvZ2ZgXt11a0hRvm7KjU7x+48FiJ78DRJHus4QJgKAVfYea3HzsEAwr2LpOw3Z7EQUaA9xc6gmO4sgPA7Ad2wcNt3A4To3yaclANT+3uA586IfzdBIJSpEPTpsGPpeWbqU7ACn3ugY5HB1FyKXatLCwEhfn+OmnybateDFLpU4eP1A2qnHrSAwC3ftKUVoa87pCV/sG423lmlURueGoEgQgrcyZPsHydVz46wTdV9Z27DwumpaZG4B2dxGNmZh6qC36iQpaM1cOihyrQeFrF+Gjw8iNE3RdEVQd6ycoYecwgInzD3LMxEh0ABbmC3ZY+s2wvtcrmBpN2FtG7T0XBk6ufnk9V7fRQPncOrz7fi90rwoi8dmDheGqH+EQaZpzFWC46uf2GLqFzoS4Tl6BJypDRa1JqIyk8isFSihV+D5JMpgXm6AulyF6y8ZtVkpCogPQquYVUAQeJ4UaZTvsv1cjLxrA8MmjOBtTxw5/5kOUVsGBj1tRcM2Io32xGS4JtFZeSHa9wn1hHtQ9FDJvmknnP23qoX6ZfkMWIFPsoF8SgsP8sOkn5rphHKH7LdsLU6NokwC/mmnxeGnhK2rrwHJbyw+h6cReUhM0B38yxumIZJD8TCDTaoVdT8IlK0o+ShXB3DCMR7SkCYR+SfS5EVY4kPvaOgP6jcJFAAt05XJEv4rAa9FCdSyZf/jV6L15Dk2yq2gol/JMQAvsX5jAfuVA268jaO9XYOxwJdpGxO611FLF9VE1oucPorI1+W9Z5pt9KJT0hPr7ATjW/Ku4aeAeCbtgABt6D81JPxXEQHdpFIZXZYiE72PaqoeG/8s9AdwjYaNdYD7phubQgOTVz5F5KjjNSakMzLB5yDhAmpNxgDQn4wBpTsYB0pyMA6Q5GQdIa4D/Aw8IWUFfQ8sfAAAAAElFTkSuQmCC)"
      ],
      "metadata": {
        "id": "RM0YKLykVufe"
      }
    },
    {
      "cell_type": "markdown",
      "source": [
        "Let's create a Decoder module."
      ],
      "metadata": {
        "id": "vHI6Z1xvV_v4"
      }
    },
    {
      "cell_type": "code",
      "source": [
        "class Decoder(nn.Module):\n",
        "\n",
        "  def __init__(self, output_dim, emb_dim, hid_dim, n_layers, dropout):\n",
        "\n",
        "    super().__init__()\n",
        "\n",
        "    self.output_dim = output_dim\n",
        "    self.hid_dim = hid_dim\n",
        "    self.n_layers = n_layers\n",
        "\n",
        "    self.embedding = nn.Embedding(output_dim, emb_dim)\n",
        "\n",
        "    self.rnn = nn.LSTM(emb_dim, hid_dim, n_layers, dropout = dropout)\n",
        "\n",
        "    self.fc_out = nn.Linear(hid_dim, output_dim)\n",
        "\n",
        "    self.dropout = nn.Dropout(dropout)\n",
        "\n",
        "\n",
        "\n",
        "  def forward(self, input, hidden, cell):\n",
        "\n",
        "    input = input.unsqueeze(0)\n",
        "\n",
        "    embedded = self.dropout(self.embedding(input))\n",
        "\n",
        "    output, (hidden, cell) = self.rnn(embedded, (hidden, cell))\n",
        "\n",
        "    prediction = self.fc_out(output.squeeze(0))\n",
        "\n",
        "    return prediction, hidden, cell\n",
        ""
      ],
      "metadata": {
        "id": "WIjoCSZ5VhBc"
      },
      "execution_count": 26,
      "outputs": []
    },
    {
      "cell_type": "markdown",
      "source": [
        "### Seq2Seq using Encoder and Decoder"
      ],
      "metadata": {
        "id": "Fr4YIWTTYRFF"
      }
    },
    {
      "cell_type": "markdown",
      "source": [
        "![image.png](data:image/png;base64,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)"
      ],
      "metadata": {
        "id": "_-_ld3LRZqhX"
      }
    },
    {
      "cell_type": "code",
      "source": [],
      "metadata": {
        "id": "Zvke27KlYOJB"
      },
      "execution_count": null,
      "outputs": []
    }
  ]
}