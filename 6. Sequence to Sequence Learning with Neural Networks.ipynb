{
  "nbformat": 4,
  "nbformat_minor": 0,
  "metadata": {
    "colab": {
      "provenance": []
    },
    "kernelspec": {
      "name": "python3",
      "display_name": "Python 3"
    },
    "language_info": {
      "name": "python"
    }
  },
  "cells": [
    {
      "cell_type": "markdown",
      "source": [
        "## Sequence to Sequence Learning with Neural Networks"
      ],
      "metadata": {
        "id": "UbeokD4aBbdV"
      }
    },
    {
      "cell_type": "markdown",
      "source": [
        "## Introduction"
      ],
      "metadata": {
        "id": "PieGhpI-Bivb"
      }
    },
    {
      "cell_type": "markdown",
      "source": [
        "The most common sequence-to-sequence (seq2seq) models are encoder-decoder models,<br> which commonly use a recurrent neural network (RNN) to encode the source (input)<br> sentence into a single vector."
      ],
      "metadata": {
        "id": "QUI9cRo7BnU9"
      }
    },
    {
      "cell_type": "markdown",
      "source": [
        "We refer to this single vector (Output from the encoder block) as a context vector.<br> We can think of the context vector as being an abstract representation<br> of the entire input sentence. This vector is then decoded by a second RNN which learns<br> to output the target (output) sentence by generating it one word at a time."
      ],
      "metadata": {
        "id": "SKNoP5HzByyl"
      }
    },
    {
      "cell_type": "markdown",
      "source": [
        "![image.png](data:image/png;base64,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)"
      ],
      "metadata": {
        "id": "expOKtXECEVk"
      }
    },
    {
      "cell_type": "markdown",
      "source": [
        "`sos` means `start of sentence` and `eos` means `end of sentence`."
      ],
      "metadata": {
        "id": "j5nnB63PGAWN"
      }
    },
    {
      "cell_type": "markdown",
      "source": [
        "In general,<br>\n",
        "The operations happening in seq2seq models are:<br><br>\n",
        "$$\n",
        "h_t=EncoderRNN \\left(e\\left(x_t\\right), h_{t-1}\\right)\n",
        "$$\n",
        "<br><br>\n",
        "$$\n",
        "s_t=D e c o d e r R N N \\left(d\\left(y_t\\right), s_{t-1}\\right)\n",
        "$$\n",
        "<br><br>\n",
        "$$\n",
        "\\hat{y}_t=f\\left(s_t\\right)\n",
        "$$"
      ],
      "metadata": {
        "id": "-6If6uc3ECfY"
      }
    },
    {
      "cell_type": "markdown",
      "source": [
        "## Preparing Data"
      ],
      "metadata": {
        "id": "5VoIej_PG0Lm"
      }
    },
    {
      "cell_type": "markdown",
      "source": [
        "Here, we will be creating a model to translate english language to german."
      ],
      "metadata": {
        "id": "bsbZaZax7rR3"
      }
    },
    {
      "cell_type": "markdown",
      "source": [
        "We'll be coding in PyTorch and using torchtext for pre-processing and spaCy to assist <br>tokenization of the data."
      ],
      "metadata": {
        "id": "JCkoIRnqG6a8"
      }
    },
    {
      "cell_type": "markdown",
      "source": [
        "I will be using torchtext 0.6.0 because currently there is no stable torchtext."
      ],
      "metadata": {
        "id": "AdQExdmz6eQv"
      }
    },
    {
      "cell_type": "code",
      "source": [
        "!pip install -U torchtext==0.6.0"
      ],
      "metadata": {
        "colab": {
          "base_uri": "https://localhost:8080/"
        },
        "id": "QZEcxMmb2tV9",
        "outputId": "a968c62a-1364-4f18-e4af-ff2ccaaa5303"
      },
      "execution_count": 1,
      "outputs": [
        {
          "output_type": "stream",
          "name": "stdout",
          "text": [
            "Looking in indexes: https://pypi.org/simple, https://us-python.pkg.dev/colab-wheels/public/simple/\n",
            "Requirement already satisfied: torchtext==0.6.0 in /usr/local/lib/python3.10/dist-packages (0.6.0)\n",
            "Requirement already satisfied: tqdm in /usr/local/lib/python3.10/dist-packages (from torchtext==0.6.0) (4.65.0)\n",
            "Requirement already satisfied: requests in /usr/local/lib/python3.10/dist-packages (from torchtext==0.6.0) (2.27.1)\n",
            "Requirement already satisfied: torch in /usr/local/lib/python3.10/dist-packages (from torchtext==0.6.0) (2.0.1+cu118)\n",
            "Requirement already satisfied: numpy in /usr/local/lib/python3.10/dist-packages (from torchtext==0.6.0) (1.22.4)\n",
            "Requirement already satisfied: six in /usr/local/lib/python3.10/dist-packages (from torchtext==0.6.0) (1.16.0)\n",
            "Requirement already satisfied: sentencepiece in /usr/local/lib/python3.10/dist-packages (from torchtext==0.6.0) (0.1.99)\n",
            "Requirement already satisfied: urllib3<1.27,>=1.21.1 in /usr/local/lib/python3.10/dist-packages (from requests->torchtext==0.6.0) (1.26.15)\n",
            "Requirement already satisfied: certifi>=2017.4.17 in /usr/local/lib/python3.10/dist-packages (from requests->torchtext==0.6.0) (2022.12.7)\n",
            "Requirement already satisfied: charset-normalizer~=2.0.0 in /usr/local/lib/python3.10/dist-packages (from requests->torchtext==0.6.0) (2.0.12)\n",
            "Requirement already satisfied: idna<4,>=2.5 in /usr/local/lib/python3.10/dist-packages (from requests->torchtext==0.6.0) (3.4)\n",
            "Requirement already satisfied: filelock in /usr/local/lib/python3.10/dist-packages (from torch->torchtext==0.6.0) (3.12.0)\n",
            "Requirement already satisfied: typing-extensions in /usr/local/lib/python3.10/dist-packages (from torch->torchtext==0.6.0) (4.5.0)\n",
            "Requirement already satisfied: sympy in /usr/local/lib/python3.10/dist-packages (from torch->torchtext==0.6.0) (1.11.1)\n",
            "Requirement already satisfied: networkx in /usr/local/lib/python3.10/dist-packages (from torch->torchtext==0.6.0) (3.1)\n",
            "Requirement already satisfied: jinja2 in /usr/local/lib/python3.10/dist-packages (from torch->torchtext==0.6.0) (3.1.2)\n",
            "Requirement already satisfied: triton==2.0.0 in /usr/local/lib/python3.10/dist-packages (from torch->torchtext==0.6.0) (2.0.0)\n",
            "Requirement already satisfied: cmake in /usr/local/lib/python3.10/dist-packages (from triton==2.0.0->torch->torchtext==0.6.0) (3.25.2)\n",
            "Requirement already satisfied: lit in /usr/local/lib/python3.10/dist-packages (from triton==2.0.0->torch->torchtext==0.6.0) (16.0.5)\n",
            "Requirement already satisfied: MarkupSafe>=2.0 in /usr/local/lib/python3.10/dist-packages (from jinja2->torch->torchtext==0.6.0) (2.1.2)\n",
            "Requirement already satisfied: mpmath>=0.19 in /usr/local/lib/python3.10/dist-packages (from sympy->torch->torchtext==0.6.0) (1.3.0)\n"
          ]
        }
      ]
    },
    {
      "cell_type": "code",
      "source": [
        "# Import necessary libraries\n",
        "\n",
        "import torch\n",
        "import torch.nn as nn\n",
        "import torch.optim as optim\n",
        "\n",
        "from torchtext.datasets import Multi30k\n",
        "from torchtext.data import Field, BucketIterator\n",
        "\n",
        "import spacy\n",
        "import numpy as np\n",
        "\n",
        "import random\n",
        "import math\n",
        "import time"
      ],
      "metadata": {
        "id": "LeFibD-aBiG3"
      },
      "execution_count": 2,
      "outputs": []
    },
    {
      "cell_type": "code",
      "source": [
        "# Set random seeds for deterministic results\n",
        "SEED = 1234\n",
        "\n",
        "random.seed(SEED)\n",
        "np.random.seed(SEED)\n",
        "torch.manual_seed(SEED)\n",
        "torch.cuda.manual_seed(SEED)\n",
        "torch.backends.cudnn.deterministic = True"
      ],
      "metadata": {
        "id": "NL-2pWUwHLiE"
      },
      "execution_count": 3,
      "outputs": []
    },
    {
      "cell_type": "markdown",
      "source": [
        "Now, we need to generate tokens for the data.<br>\n",
        "After tokenizing, \"good morning !\" becomes [\"good\", \"morning\", \"!\"].<br>\n",
        "Each and every sentence is represented as sequence of tokens.<br><br>\n",
        "`spaCy` has model for each language (\"`de_core_news_sm`\" for German and \"`en_core_web_sm`\" for English)<br> which need to be loaded so we can access the tokenizer of each model."
      ],
      "metadata": {
        "id": "RepN4HB_66K_"
      }
    },
    {
      "cell_type": "code",
      "source": [
        "# Downloading the models\n",
        "!python -m spacy download en_core_web_sm\n",
        "!python -m spacy download de_core_news_sm"
      ],
      "metadata": {
        "id": "50RLDFoPHRC2",
        "colab": {
          "base_uri": "https://localhost:8080/"
        },
        "outputId": "085493bc-89e6-4956-8361-88a20adce991"
      },
      "execution_count": 5,
      "outputs": [
        {
          "output_type": "stream",
          "name": "stdout",
          "text": [
            "2023-06-22 16:29:13.974966: W tensorflow/compiler/tf2tensorrt/utils/py_utils.cc:38] TF-TRT Warning: Could not find TensorRT\n",
            "Looking in indexes: https://pypi.org/simple, https://us-python.pkg.dev/colab-wheels/public/simple/\n",
            "Collecting en-core-web-sm==3.5.0\n",
            "  Downloading https://github.com/explosion/spacy-models/releases/download/en_core_web_sm-3.5.0/en_core_web_sm-3.5.0-py3-none-any.whl (12.8 MB)\n",
            "\u001b[2K     \u001b[90m━━━━━━━━━━━━━━━━━━━━━━━━━━━━━━━━━━━━━━━━\u001b[0m \u001b[32m12.8/12.8 MB\u001b[0m \u001b[31m82.9 MB/s\u001b[0m eta \u001b[36m0:00:00\u001b[0m\n",
            "\u001b[?25hRequirement already satisfied: spacy<3.6.0,>=3.5.0 in /usr/local/lib/python3.10/dist-packages (from en-core-web-sm==3.5.0) (3.5.2)\n",
            "Requirement already satisfied: spacy-legacy<3.1.0,>=3.0.11 in /usr/local/lib/python3.10/dist-packages (from spacy<3.6.0,>=3.5.0->en-core-web-sm==3.5.0) (3.0.12)\n",
            "Requirement already satisfied: spacy-loggers<2.0.0,>=1.0.0 in /usr/local/lib/python3.10/dist-packages (from spacy<3.6.0,>=3.5.0->en-core-web-sm==3.5.0) (1.0.4)\n",
            "Requirement already satisfied: murmurhash<1.1.0,>=0.28.0 in /usr/local/lib/python3.10/dist-packages (from spacy<3.6.0,>=3.5.0->en-core-web-sm==3.5.0) (1.0.9)\n",
            "Requirement already satisfied: cymem<2.1.0,>=2.0.2 in /usr/local/lib/python3.10/dist-packages (from spacy<3.6.0,>=3.5.0->en-core-web-sm==3.5.0) (2.0.7)\n",
            "Requirement already satisfied: preshed<3.1.0,>=3.0.2 in /usr/local/lib/python3.10/dist-packages (from spacy<3.6.0,>=3.5.0->en-core-web-sm==3.5.0) (3.0.8)\n",
            "Requirement already satisfied: thinc<8.2.0,>=8.1.8 in /usr/local/lib/python3.10/dist-packages (from spacy<3.6.0,>=3.5.0->en-core-web-sm==3.5.0) (8.1.9)\n",
            "Requirement already satisfied: wasabi<1.2.0,>=0.9.1 in /usr/local/lib/python3.10/dist-packages (from spacy<3.6.0,>=3.5.0->en-core-web-sm==3.5.0) (1.1.1)\n",
            "Requirement already satisfied: srsly<3.0.0,>=2.4.3 in /usr/local/lib/python3.10/dist-packages (from spacy<3.6.0,>=3.5.0->en-core-web-sm==3.5.0) (2.4.6)\n",
            "Requirement already satisfied: catalogue<2.1.0,>=2.0.6 in /usr/local/lib/python3.10/dist-packages (from spacy<3.6.0,>=3.5.0->en-core-web-sm==3.5.0) (2.0.8)\n",
            "Requirement already satisfied: typer<0.8.0,>=0.3.0 in /usr/local/lib/python3.10/dist-packages (from spacy<3.6.0,>=3.5.0->en-core-web-sm==3.5.0) (0.7.0)\n",
            "Requirement already satisfied: pathy>=0.10.0 in /usr/local/lib/python3.10/dist-packages (from spacy<3.6.0,>=3.5.0->en-core-web-sm==3.5.0) (0.10.1)\n",
            "Requirement already satisfied: smart-open<7.0.0,>=5.2.1 in /usr/local/lib/python3.10/dist-packages (from spacy<3.6.0,>=3.5.0->en-core-web-sm==3.5.0) (6.3.0)\n",
            "Requirement already satisfied: tqdm<5.0.0,>=4.38.0 in /usr/local/lib/python3.10/dist-packages (from spacy<3.6.0,>=3.5.0->en-core-web-sm==3.5.0) (4.65.0)\n",
            "Requirement already satisfied: numpy>=1.15.0 in /usr/local/lib/python3.10/dist-packages (from spacy<3.6.0,>=3.5.0->en-core-web-sm==3.5.0) (1.22.4)\n",
            "Requirement already satisfied: requests<3.0.0,>=2.13.0 in /usr/local/lib/python3.10/dist-packages (from spacy<3.6.0,>=3.5.0->en-core-web-sm==3.5.0) (2.27.1)\n",
            "Requirement already satisfied: pydantic!=1.8,!=1.8.1,<1.11.0,>=1.7.4 in /usr/local/lib/python3.10/dist-packages (from spacy<3.6.0,>=3.5.0->en-core-web-sm==3.5.0) (1.10.7)\n",
            "Requirement already satisfied: jinja2 in /usr/local/lib/python3.10/dist-packages (from spacy<3.6.0,>=3.5.0->en-core-web-sm==3.5.0) (3.1.2)\n",
            "Requirement already satisfied: setuptools in /usr/local/lib/python3.10/dist-packages (from spacy<3.6.0,>=3.5.0->en-core-web-sm==3.5.0) (67.7.2)\n",
            "Requirement already satisfied: packaging>=20.0 in /usr/local/lib/python3.10/dist-packages (from spacy<3.6.0,>=3.5.0->en-core-web-sm==3.5.0) (23.1)\n",
            "Requirement already satisfied: langcodes<4.0.0,>=3.2.0 in /usr/local/lib/python3.10/dist-packages (from spacy<3.6.0,>=3.5.0->en-core-web-sm==3.5.0) (3.3.0)\n",
            "Requirement already satisfied: typing-extensions>=4.2.0 in /usr/local/lib/python3.10/dist-packages (from pydantic!=1.8,!=1.8.1,<1.11.0,>=1.7.4->spacy<3.6.0,>=3.5.0->en-core-web-sm==3.5.0) (4.5.0)\n",
            "Requirement already satisfied: urllib3<1.27,>=1.21.1 in /usr/local/lib/python3.10/dist-packages (from requests<3.0.0,>=2.13.0->spacy<3.6.0,>=3.5.0->en-core-web-sm==3.5.0) (1.26.15)\n",
            "Requirement already satisfied: certifi>=2017.4.17 in /usr/local/lib/python3.10/dist-packages (from requests<3.0.0,>=2.13.0->spacy<3.6.0,>=3.5.0->en-core-web-sm==3.5.0) (2022.12.7)\n",
            "Requirement already satisfied: charset-normalizer~=2.0.0 in /usr/local/lib/python3.10/dist-packages (from requests<3.0.0,>=2.13.0->spacy<3.6.0,>=3.5.0->en-core-web-sm==3.5.0) (2.0.12)\n",
            "Requirement already satisfied: idna<4,>=2.5 in /usr/local/lib/python3.10/dist-packages (from requests<3.0.0,>=2.13.0->spacy<3.6.0,>=3.5.0->en-core-web-sm==3.5.0) (3.4)\n",
            "Requirement already satisfied: blis<0.8.0,>=0.7.8 in /usr/local/lib/python3.10/dist-packages (from thinc<8.2.0,>=8.1.8->spacy<3.6.0,>=3.5.0->en-core-web-sm==3.5.0) (0.7.9)\n",
            "Requirement already satisfied: confection<1.0.0,>=0.0.1 in /usr/local/lib/python3.10/dist-packages (from thinc<8.2.0,>=8.1.8->spacy<3.6.0,>=3.5.0->en-core-web-sm==3.5.0) (0.0.4)\n",
            "Requirement already satisfied: click<9.0.0,>=7.1.1 in /usr/local/lib/python3.10/dist-packages (from typer<0.8.0,>=0.3.0->spacy<3.6.0,>=3.5.0->en-core-web-sm==3.5.0) (8.1.3)\n",
            "Requirement already satisfied: MarkupSafe>=2.0 in /usr/local/lib/python3.10/dist-packages (from jinja2->spacy<3.6.0,>=3.5.0->en-core-web-sm==3.5.0) (2.1.2)\n",
            "\u001b[38;5;2m✔ Download and installation successful\u001b[0m\n",
            "You can now load the package via spacy.load('en_core_web_sm')\n",
            "2023-06-22 16:29:28.524326: W tensorflow/compiler/tf2tensorrt/utils/py_utils.cc:38] TF-TRT Warning: Could not find TensorRT\n",
            "Looking in indexes: https://pypi.org/simple, https://us-python.pkg.dev/colab-wheels/public/simple/\n",
            "Collecting de-core-news-sm==3.5.0\n",
            "  Downloading https://github.com/explosion/spacy-models/releases/download/de_core_news_sm-3.5.0/de_core_news_sm-3.5.0-py3-none-any.whl (14.6 MB)\n",
            "\u001b[2K     \u001b[90m━━━━━━━━━━━━━━━━━━━━━━━━━━━━━━━━━━━━━━━━\u001b[0m \u001b[32m14.6/14.6 MB\u001b[0m \u001b[31m52.4 MB/s\u001b[0m eta \u001b[36m0:00:00\u001b[0m\n",
            "\u001b[?25hRequirement already satisfied: spacy<3.6.0,>=3.5.0 in /usr/local/lib/python3.10/dist-packages (from de-core-news-sm==3.5.0) (3.5.2)\n",
            "Requirement already satisfied: spacy-legacy<3.1.0,>=3.0.11 in /usr/local/lib/python3.10/dist-packages (from spacy<3.6.0,>=3.5.0->de-core-news-sm==3.5.0) (3.0.12)\n",
            "Requirement already satisfied: spacy-loggers<2.0.0,>=1.0.0 in /usr/local/lib/python3.10/dist-packages (from spacy<3.6.0,>=3.5.0->de-core-news-sm==3.5.0) (1.0.4)\n",
            "Requirement already satisfied: murmurhash<1.1.0,>=0.28.0 in /usr/local/lib/python3.10/dist-packages (from spacy<3.6.0,>=3.5.0->de-core-news-sm==3.5.0) (1.0.9)\n",
            "Requirement already satisfied: cymem<2.1.0,>=2.0.2 in /usr/local/lib/python3.10/dist-packages (from spacy<3.6.0,>=3.5.0->de-core-news-sm==3.5.0) (2.0.7)\n",
            "Requirement already satisfied: preshed<3.1.0,>=3.0.2 in /usr/local/lib/python3.10/dist-packages (from spacy<3.6.0,>=3.5.0->de-core-news-sm==3.5.0) (3.0.8)\n",
            "Requirement already satisfied: thinc<8.2.0,>=8.1.8 in /usr/local/lib/python3.10/dist-packages (from spacy<3.6.0,>=3.5.0->de-core-news-sm==3.5.0) (8.1.9)\n",
            "Requirement already satisfied: wasabi<1.2.0,>=0.9.1 in /usr/local/lib/python3.10/dist-packages (from spacy<3.6.0,>=3.5.0->de-core-news-sm==3.5.0) (1.1.1)\n",
            "Requirement already satisfied: srsly<3.0.0,>=2.4.3 in /usr/local/lib/python3.10/dist-packages (from spacy<3.6.0,>=3.5.0->de-core-news-sm==3.5.0) (2.4.6)\n",
            "Requirement already satisfied: catalogue<2.1.0,>=2.0.6 in /usr/local/lib/python3.10/dist-packages (from spacy<3.6.0,>=3.5.0->de-core-news-sm==3.5.0) (2.0.8)\n",
            "Requirement already satisfied: typer<0.8.0,>=0.3.0 in /usr/local/lib/python3.10/dist-packages (from spacy<3.6.0,>=3.5.0->de-core-news-sm==3.5.0) (0.7.0)\n",
            "Requirement already satisfied: pathy>=0.10.0 in /usr/local/lib/python3.10/dist-packages (from spacy<3.6.0,>=3.5.0->de-core-news-sm==3.5.0) (0.10.1)\n",
            "Requirement already satisfied: smart-open<7.0.0,>=5.2.1 in /usr/local/lib/python3.10/dist-packages (from spacy<3.6.0,>=3.5.0->de-core-news-sm==3.5.0) (6.3.0)\n",
            "Requirement already satisfied: tqdm<5.0.0,>=4.38.0 in /usr/local/lib/python3.10/dist-packages (from spacy<3.6.0,>=3.5.0->de-core-news-sm==3.5.0) (4.65.0)\n",
            "Requirement already satisfied: numpy>=1.15.0 in /usr/local/lib/python3.10/dist-packages (from spacy<3.6.0,>=3.5.0->de-core-news-sm==3.5.0) (1.22.4)\n",
            "Requirement already satisfied: requests<3.0.0,>=2.13.0 in /usr/local/lib/python3.10/dist-packages (from spacy<3.6.0,>=3.5.0->de-core-news-sm==3.5.0) (2.27.1)\n",
            "Requirement already satisfied: pydantic!=1.8,!=1.8.1,<1.11.0,>=1.7.4 in /usr/local/lib/python3.10/dist-packages (from spacy<3.6.0,>=3.5.0->de-core-news-sm==3.5.0) (1.10.7)\n",
            "Requirement already satisfied: jinja2 in /usr/local/lib/python3.10/dist-packages (from spacy<3.6.0,>=3.5.0->de-core-news-sm==3.5.0) (3.1.2)\n",
            "Requirement already satisfied: setuptools in /usr/local/lib/python3.10/dist-packages (from spacy<3.6.0,>=3.5.0->de-core-news-sm==3.5.0) (67.7.2)\n",
            "Requirement already satisfied: packaging>=20.0 in /usr/local/lib/python3.10/dist-packages (from spacy<3.6.0,>=3.5.0->de-core-news-sm==3.5.0) (23.1)\n",
            "Requirement already satisfied: langcodes<4.0.0,>=3.2.0 in /usr/local/lib/python3.10/dist-packages (from spacy<3.6.0,>=3.5.0->de-core-news-sm==3.5.0) (3.3.0)\n",
            "Requirement already satisfied: typing-extensions>=4.2.0 in /usr/local/lib/python3.10/dist-packages (from pydantic!=1.8,!=1.8.1,<1.11.0,>=1.7.4->spacy<3.6.0,>=3.5.0->de-core-news-sm==3.5.0) (4.5.0)\n",
            "Requirement already satisfied: urllib3<1.27,>=1.21.1 in /usr/local/lib/python3.10/dist-packages (from requests<3.0.0,>=2.13.0->spacy<3.6.0,>=3.5.0->de-core-news-sm==3.5.0) (1.26.15)\n",
            "Requirement already satisfied: certifi>=2017.4.17 in /usr/local/lib/python3.10/dist-packages (from requests<3.0.0,>=2.13.0->spacy<3.6.0,>=3.5.0->de-core-news-sm==3.5.0) (2022.12.7)\n",
            "Requirement already satisfied: charset-normalizer~=2.0.0 in /usr/local/lib/python3.10/dist-packages (from requests<3.0.0,>=2.13.0->spacy<3.6.0,>=3.5.0->de-core-news-sm==3.5.0) (2.0.12)\n",
            "Requirement already satisfied: idna<4,>=2.5 in /usr/local/lib/python3.10/dist-packages (from requests<3.0.0,>=2.13.0->spacy<3.6.0,>=3.5.0->de-core-news-sm==3.5.0) (3.4)\n",
            "Requirement already satisfied: blis<0.8.0,>=0.7.8 in /usr/local/lib/python3.10/dist-packages (from thinc<8.2.0,>=8.1.8->spacy<3.6.0,>=3.5.0->de-core-news-sm==3.5.0) (0.7.9)\n",
            "Requirement already satisfied: confection<1.0.0,>=0.0.1 in /usr/local/lib/python3.10/dist-packages (from thinc<8.2.0,>=8.1.8->spacy<3.6.0,>=3.5.0->de-core-news-sm==3.5.0) (0.0.4)\n",
            "Requirement already satisfied: click<9.0.0,>=7.1.1 in /usr/local/lib/python3.10/dist-packages (from typer<0.8.0,>=0.3.0->spacy<3.6.0,>=3.5.0->de-core-news-sm==3.5.0) (8.1.3)\n",
            "Requirement already satisfied: MarkupSafe>=2.0 in /usr/local/lib/python3.10/dist-packages (from jinja2->spacy<3.6.0,>=3.5.0->de-core-news-sm==3.5.0) (2.1.2)\n",
            "Installing collected packages: de-core-news-sm\n",
            "Successfully installed de-core-news-sm-3.5.0\n",
            "\u001b[38;5;2m✔ Download and installation successful\u001b[0m\n",
            "You can now load the package via spacy.load('de_core_news_sm')\n"
          ]
        }
      ]
    },
    {
      "cell_type": "code",
      "source": [
        "# Load the spaCy models (Models for tokenization)\n",
        "\n",
        "spacy_de = spacy.load('de_core_news_sm')\n",
        "spacy_en = spacy.load('en_core_web_sm')"
      ],
      "metadata": {
        "id": "odhc20NR8AA-"
      },
      "execution_count": 6,
      "outputs": []
    },
    {
      "cell_type": "markdown",
      "source": [
        "Next, we create the tokenizer functions. These can be passed to torchtext and will take <br> in the sentence as a string and return the sentence as a list of tokens."
      ],
      "metadata": {
        "id": "hesvDB9o9vAX"
      }
    },
    {
      "cell_type": "code",
      "source": [
        "doc = [tok.text for tok in spacy_en.tokenizer(\"This is a sentence!\")]\n",
        "doc"
      ],
      "metadata": {
        "colab": {
          "base_uri": "https://localhost:8080/"
        },
        "id": "6djlOo3RAJ2x",
        "outputId": "a6bcc964-8492-432e-ecc9-83555cce8561"
      },
      "execution_count": 10,
      "outputs": [
        {
          "output_type": "execute_result",
          "data": {
            "text/plain": [
              "['This', 'is', 'a', 'sentence', '!']"
            ]
          },
          "metadata": {},
          "execution_count": 10
        }
      ]
    },
    {
      "cell_type": "code",
      "source": [
        "def tokenize_de(text):\n",
        "    \"\"\"\n",
        "    Tokenizes German text from a string into a list of strings (tokens) and reverses it\n",
        "    \"\"\"\n",
        "    return [tok.text for tok in spacy_de.tokenizer(text)][::-1]\n",
        "\n",
        "def tokenize_en(text):\n",
        "    \"\"\"\n",
        "    Tokenizes English text from a string into a list of strings (tokens)\n",
        "    \"\"\"\n",
        "    return [tok.text for tok in spacy_en.tokenizer(text)]"
      ],
      "metadata": {
        "id": "qSnBSBCy9WOV"
      },
      "execution_count": 11,
      "outputs": []
    },
    {
      "cell_type": "markdown",
      "source": [
        "In the paper we are implementing, they find it beneficial to reverse the order of the input <br>which they believe \"introduces many short term dependencies in the data that make the<br> optimization problem much easier\". So, we reverse the German sentence after tokenization."
      ],
      "metadata": {
        "id": "t2lM_K-xEAD8"
      }
    },
    {
      "cell_type": "markdown",
      "source": [
        "torchtext's `Field`s handle how data should be processed."
      ],
      "metadata": {
        "id": "k9AiQYH2EkSJ"
      }
    },
    {
      "cell_type": "markdown",
      "source": [
        "We set the `tokenize` argument to the correct tokenization function.<br>\n",
        "Then we specify `init_token` as `<sos>`, `eos_token` as `<eos>` and set `lower = True`."
      ],
      "metadata": {
        "id": "dfQcaarZEtzv"
      }
    },
    {
      "cell_type": "code",
      "source": [
        "#SRG for source and TRG for target\n",
        "SRC = Field(tokenize = tokenize_de,\n",
        "            init_token = '<sos>',\n",
        "            eos_token = '<eos>',\n",
        "            lower = True)\n",
        "\n",
        "TRG = Field(tokenize = tokenize_en,\n",
        "            init_token = '<sos>',\n",
        "            eos_token = '<eos>',\n",
        "            lower = True)"
      ],
      "metadata": {
        "id": "5tdAyFRUD_fh"
      },
      "execution_count": 12,
      "outputs": []
    },
    {
      "cell_type": "markdown",
      "source": [
        "Next, we download and load the train, validation and test data."
      ],
      "metadata": {
        "id": "GKLYQLmFI4gM"
      }
    },
    {
      "cell_type": "code",
      "source": [
        "train_data, valid_data, test_data = Multi30k.splits(exts = ('.de', '.en'),\n",
        "                                                    fields = (SRC, TRG))"
      ],
      "metadata": {
        "colab": {
          "base_uri": "https://localhost:8080/"
        },
        "id": "f23HN__mI1t_",
        "outputId": "e430ae86-b8e2-45a2-ba36-a90a9cde0775"
      },
      "execution_count": 13,
      "outputs": [
        {
          "output_type": "stream",
          "name": "stdout",
          "text": [
            "downloading training.tar.gz\n"
          ]
        },
        {
          "output_type": "stream",
          "name": "stderr",
          "text": [
            "training.tar.gz: 100%|██████████| 1.21M/1.21M [00:01<00:00, 732kB/s] \n"
          ]
        },
        {
          "output_type": "stream",
          "name": "stdout",
          "text": [
            "downloading validation.tar.gz\n"
          ]
        },
        {
          "output_type": "stream",
          "name": "stderr",
          "text": [
            "validation.tar.gz: 100%|██████████| 46.3k/46.3k [00:00<00:00, 255kB/s]\n"
          ]
        },
        {
          "output_type": "stream",
          "name": "stdout",
          "text": [
            "downloading mmt_task1_test2016.tar.gz\n"
          ]
        },
        {
          "output_type": "stream",
          "name": "stderr",
          "text": [
            "mmt_task1_test2016.tar.gz: 100%|██████████| 66.2k/66.2k [00:00<00:00, 243kB/s]\n"
          ]
        }
      ]
    },
    {
      "cell_type": "code",
      "source": [
        "print(f\"Number of training examples: {len(train_data.examples)}\")\n",
        "print(f\"Number of validation examples: {len(valid_data.examples)}\")\n",
        "print(f\"Number of testing examples: {len(test_data.examples)}\")"
      ],
      "metadata": {
        "colab": {
          "base_uri": "https://localhost:8080/"
        },
        "id": "pDfwzzQTI8PG",
        "outputId": "cde450ec-df48-4427-ee44-0a4a093308d6"
      },
      "execution_count": 14,
      "outputs": [
        {
          "output_type": "stream",
          "name": "stdout",
          "text": [
            "Number of training examples: 29000\n",
            "Number of validation examples: 1014\n",
            "Number of testing examples: 1000\n"
          ]
        }
      ]
    },
    {
      "cell_type": "code",
      "source": [
        "# Print our the first sentence\n",
        "print(vars(train_data.examples[0]))"
      ],
      "metadata": {
        "colab": {
          "base_uri": "https://localhost:8080/"
        },
        "id": "JnKQlxzLJAbG",
        "outputId": "f4acac3a-0f42-449f-b6dc-23a90af7a2a5"
      },
      "execution_count": 15,
      "outputs": [
        {
          "output_type": "stream",
          "name": "stdout",
          "text": [
            "{'src': ['.', 'büsche', 'vieler', 'nähe', 'der', 'in', 'freien', 'im', 'sind', 'männer', 'weiße', 'junge', 'zwei'], 'trg': ['two', 'young', ',', 'white', 'males', 'are', 'outside', 'near', 'many', 'bushes', '.']}\n"
          ]
        }
      ]
    },
    {
      "cell_type": "code",
      "source": [],
      "metadata": {
        "id": "pyGAkBnDJFn2"
      },
      "execution_count": null,
      "outputs": []
    }
  ]
}